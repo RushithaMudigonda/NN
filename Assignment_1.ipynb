{
 "cells": [
  {
   "cell_type": "code",
   "execution_count": 2,
   "id": "4213c165-f257-48f5-a5c3-5aca8a7512eb",
   "metadata": {},
   "outputs": [],
   "source": [
    "#QUESTION 1\n"
   ]
  },
  {
   "cell_type": "code",
   "execution_count": 11,
   "id": "4eb2d84b-ef9a-459e-831b-ec2220680d43",
   "metadata": {},
   "outputs": [
    {
     "name": "stdin",
     "output_type": "stream",
     "text": [
      "Enter a string: Handle\n"
     ]
    },
    {
     "name": "stdout",
     "output_type": "stream",
     "text": [
      "final output is: dnaH\n"
     ]
    }
   ],
   "source": [
    "#input the string,delete atleast 2 characters,reverse the resultant string and print it\n",
    "\n",
    "\n",
    "str=input(\"Enter a string:\")\n",
    "length=len(str)\n",
    "delete=str[:length-2]\n",
    "strRev = delete[::-1]\n",
    "print (\"final output is:\", strRev)"
   ]
  },
  {
   "cell_type": "code",
   "execution_count": 4,
   "id": "75059277-60d5-4f2f-b8fe-34ad63373d1a",
   "metadata": {},
   "outputs": [
    {
     "name": "stdin",
     "output_type": "stream",
     "text": [
      "Enter 1st num 6\n",
      "Enter 2nd num 4\n"
     ]
    },
    {
     "name": "stdout",
     "output_type": "stream",
     "text": [
      "addition 10\n",
      "substraction 2\n",
      "multiplication 24\n",
      "division 2\n"
     ]
    }
   ],
   "source": [
    "#take 2 numbers from the user and perform 4 arithmetic operations on them\n",
    "\n",
    "\n",
    "a=int(input(\"Enter 1st num\"))\n",
    "b=int(input(\"Enter 2nd num\"))\n",
    "sum=a+b\n",
    "mul=a*b\n",
    "sub=a-b\n",
    "div=a%b\n",
    "print(\"addition\",sum)\n",
    "print(\"substraction\" , sub)\n",
    "print(\"multiplication\",mul)\n",
    "print(\"division\",div)"
   ]
  },
  {
   "cell_type": "code",
   "execution_count": 6,
   "id": "438d221d-8fa8-4462-af5b-b94f61e162b2",
   "metadata": {},
   "outputs": [
    {
     "name": "stdout",
     "output_type": "stream",
     "text": [
      "Modified string:\n",
      "pythons is a computer language\n"
     ]
    }
   ],
   "source": [
    "#QUESTION 2\n",
    "\n",
    "#accept a sentence and replace each occurance of 'python' with 'pythons'\n",
    "\n",
    "str=\"python is a computer language\"\n",
    "modified_str=str.replace('python','pythons')\n",
    "print(\"Modified string:\")\n",
    "print(modified_str)"
   ]
  },
  {
   "cell_type": "code",
   "execution_count": 9,
   "id": "79d9826b-7e92-4f39-b63d-afa4cce46f84",
   "metadata": {},
   "outputs": [
    {
     "name": "stdin",
     "output_type": "stream",
     "text": [
      "Please enter your score: 80\n"
     ]
    },
    {
     "name": "stdout",
     "output_type": "stream",
     "text": [
      "Your score is 80\n",
      "Your Grade is B\n"
     ]
    }
   ],
   "source": [
    "#QUESTION 3\n",
    "\n",
    "#print the letter grade based on input class score\n",
    "\n",
    "score=int(input(\"Please enter your score:\"))\n",
    "print(\"Your score is\",score)\n",
    "if score >= 90 and score <= 100:\n",
    "    print(\"Your Grade is A\")\n",
    "elif score >= 80 and score <= 89:\n",
    "    print(\"Your Grade is B\")\n",
    "elif score >= 70 and score <= 79:\n",
    "    print(\"Your Grade is C\")\n",
    "elif score >= 60 and score <= 69:\n",
    "    print(\"Your Grade is D\")\n",
    "else:\n",
    "    print(\"Your Grade is F\")"
   ]
  },
  {
   "cell_type": "code",
   "execution_count": null,
   "id": "f3c275ca-ae73-41fe-9ac7-505bcf3ab131",
   "metadata": {},
   "outputs": [],
   "source": []
  }
 ],
 "metadata": {
  "kernelspec": {
   "display_name": "Python 3 (ipykernel)",
   "language": "python",
   "name": "python3"
  },
  "language_info": {
   "codemirror_mode": {
    "name": "ipython",
    "version": 3
   },
   "file_extension": ".py",
   "mimetype": "text/x-python",
   "name": "python",
   "nbconvert_exporter": "python",
   "pygments_lexer": "ipython3",
   "version": "3.12.1"
  }
 },
 "nbformat": 4,
 "nbformat_minor": 5
}
